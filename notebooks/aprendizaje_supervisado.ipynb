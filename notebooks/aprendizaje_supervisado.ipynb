{
 "cells": [
  {
   "cell_type": "markdown",
   "id": "6470f4c9",
   "metadata": {},
   "source": [
    "# Aprendizaje supervisado (Clasificación)"
   ]
  },
  {
   "cell_type": "markdown",
   "id": "3f0106b5",
   "metadata": {},
   "source": [
    "![clasificacion](../docs/_static/img7.png)"
   ]
  },
  {
   "cell_type": "markdown",
   "id": "c8e6b15e",
   "metadata": {},
   "source": [
    "## 1. Importar bibliotecas necesarias\n"
   ]
  },
  {
   "cell_type": "code",
   "execution_count": null,
   "id": "73e3634e",
   "metadata": {},
   "outputs": [],
   "source": [
    "import pandas as pd\n",
    "from matplotlib import pyplot as plt\n",
    "import seaborn as sns"
   ]
  },
  {
   "cell_type": "markdown",
   "id": "65d1376f",
   "metadata": {},
   "source": [
    "## 2. Cargar el conjunto de datos"
   ]
  },
  {
   "cell_type": "code",
   "execution_count": null,
   "id": "4b776baa",
   "metadata": {},
   "outputs": [],
   "source": [
    "# Establece tu ruta de trabajo\n",
    "import os\n",
    "ruta = os.path.join('..', 'docs', 'datos', 'student_lim.xlsx')"
   ]
  },
  {
   "cell_type": "code",
   "execution_count": null,
   "id": "3ecded60",
   "metadata": {},
   "outputs": [],
   "source": [
    "df = pd.read_excel(ruta)\n",
    "df"
   ]
  },
  {
   "cell_type": "markdown",
   "id": "ba177624",
   "metadata": {},
   "source": [
    "> El conjunto de datos contiene 23 variables explicativas de tipo:\n",
    ">\n",
    "> * sociodemográfico,\n",
    ">* familiar\n",
    ">* académico (tanto categóricas como numéricas),\n",
    ">\n",
    "> y una variable objetivo ``nota_final`` de carácter numérico discreto,\n",
    ">\n",
    "> destinada a predecir el rendimiento estudiantil en un problema de clasificación supervisada de aprendizaje automático."
   ]
  },
  {
   "cell_type": "markdown",
   "id": "5b7c860e",
   "metadata": {},
   "source": [
    "> Queremos predecir la variable ``nota_final`` (variable objetivo) a partir de las demás variables (variables predictoras)."
   ]
  },
  {
   "cell_type": "markdown",
   "id": "7ea918a3",
   "metadata": {},
   "source": [
    "## 3. Características de los datos"
   ]
  },
  {
   "cell_type": "code",
   "execution_count": null,
   "id": "ce7bc4a4",
   "metadata": {},
   "outputs": [],
   "source": [
    "# Veamos la dimensión del DataFrame\n",
    "df.shape"
   ]
  },
  {
   "cell_type": "code",
   "execution_count": null,
   "id": "2062af80",
   "metadata": {},
   "outputs": [],
   "source": [
    "# Información básica del DataFrame\n",
    "df.info()"
   ]
  },
  {
   "cell_type": "code",
   "execution_count": null,
   "id": "7973a82c",
   "metadata": {},
   "outputs": [],
   "source": [
    "# Podemos checar el conteo de valores en una columna específica\n",
    "df.genero.value_counts()"
   ]
  },
  {
   "cell_type": "code",
   "execution_count": null,
   "id": "ff77ad4c",
   "metadata": {},
   "outputs": [],
   "source": [
    "# revisemos otra columna\n",
    "df.quiere_superior.value_counts()"
   ]
  },
  {
   "cell_type": "code",
   "execution_count": null,
   "id": "a0d74f4f",
   "metadata": {},
   "outputs": [],
   "source": [
    "df.describe()"
   ]
  },
  {
   "cell_type": "markdown",
   "id": "0b8426d9",
   "metadata": {},
   "source": [
    "## 4. Visualización de datos\n",
    "\n",
    "### EDA _(Análisis exploratorio de datos)_ Univariado"
   ]
  },
  {
   "cell_type": "code",
   "execution_count": null,
   "id": "18eeb52a",
   "metadata": {},
   "outputs": [],
   "source": [
    "# Diccionario con variables categóricas ordinales\n",
    "\n",
    "orden_categorias = {\n",
    "    \"ne_madre\": [\"Sin estudios\", \"Primaria (4º grado)\", \"5º a 9º grado\", \"Secundaria\", \"Superior\"],\n",
    "    \"ne_padre\": [\"Sin estudios\", \"Primaria (4º grado)\", \"5º a 9º grado\", \"Secundaria\", \"Superior\"],\n",
    "    \"hrs_estudio\": [\"<2 horas\", \"2–5 horas\", \"5–10 horas\", \">10 horas\"],\n",
    "    \"materias_reprobadas\": [\"0\", \"1\", \"2\", \"3 o más\"],\n",
    "    \"rel_fam\": [\"Muy mala\", \"Mala\", \"Regular\", \"Buena\", \"Excelente\"],\n",
    "    \"tiempo_libre\": [\"Muy poco\", \"Poco\", \"Regular\", \"Mucho\", \"Muchísimo\"],\n",
    "    \"salidas\": [\"Muy poco\", \"Poco\", \"Regular\", \"Mucho\", \"Muchísimo\"],\n",
    "    \"alc_dia\": [\"Muy bajo\", \"Bajo\", \"Regular\", \"Alto\", \"Muy alto\"],\n",
    "    \"alc_finde\": [\"Muy bajo\", \"Bajo\", \"Regular\", \"Alto\", \"Muy alto\"],\n",
    "    \"salud\": [\"Muy mala\", \"Mala\", \"Regular\", \"Buena\", \"Muy buena\"],\n",
    "    \"apoyo_edu\": [\"No\", \"Sí\"],\n",
    "    \"apoyo_fam\": [\"No\", \"Sí\"],\n",
    "    \"clases_extra\": [\"No\", \"Sí\"],\n",
    "    \"actividades_extra\": [\"No\", \"Sí\"],\n",
    "    \"quiere_superior\": [\"No\", \"Sí\"],\n",
    "    \"internet_casa\": [\"No\", \"Sí\"],\n",
    "    \"pareja\": [\"No\", \"Sí\"],\n",
    "    \"tam_fam\": [\"≤3\", \">3\"],\n",
    "    \"conv_padres\": [\"Juntos\", \"Separados\"],\n",
    "    \"genero\": [\"Mujer\", \"Hombre\"],\n",
    "    \"escuela\": [\"Gabriel Pereira\", \"Mousinho da Silveira\"]\n",
    "}"
   ]
  },
  {
   "cell_type": "code",
   "execution_count": null,
   "id": "78ecccc3",
   "metadata": {},
   "outputs": [],
   "source": [
    "# Definir subtemas para graficar\n",
    "\n",
    "subtemas = {\n",
    "    \"01 Contexto sociodemográfico\": [\"escuela\", \"genero\", \"tam_fam\"],\n",
    "    \"02 Entorno familiar y académico\": [\"conv_padres\", \"ne_madre\", \"ne_padre\", \"apoyo_fam\", \"apoyo_edu\", \"clases_extra\"],\n",
    "    \"03 Hábitos de estudio\": [\"hrs_estudio\", \"materias_reprobadas\"],\n",
    "    \"04 Acceso a recursos\": [\"internet_casa\", \"quiere_superior\"],\n",
    "    \"05 Vida personal y social\": [\"pareja\", \"rel_fam\", \"tiempo_libre\", \"salidas\", \"actividades_extra\"],\n",
    "    \"06 Conductas de riesgo\": [\"alc_dia\", \"alc_finde\"],\n",
    "    \"07 Salud\": [\"salud\"],\n",
    "}"
   ]
  },
  {
   "cell_type": "code",
   "execution_count": null,
   "id": "7464b6cb",
   "metadata": {},
   "outputs": [],
   "source": [
    "# Función para graficar subtemas\n",
    "\n",
    "def plot_subtema(df, cols, titulo, ncols=3):\n",
    "    cols = [c for c in cols if c in df.columns]\n",
    "    if not cols:\n",
    "        return\n",
    "    n = len(cols)\n",
    "    nrows = (n + ncols - 1) // ncols\n",
    "    fig, axes = plt.subplots(nrows=nrows, ncols=ncols, figsize=(20, 5*nrows))\n",
    "    axes = axes.flatten()\n",
    "\n",
    "    for i, col in enumerate(cols):\n",
    "        order = orden_categorias.get(col, None)\n",
    "        sns.countplot(x=col, hue=col, data=df,\n",
    "                      order=order, palette=\"Set2\", legend=False, ax=axes[i])\n",
    "        axes[i].set_title(f\"Distribución de {col}\")\n",
    "        axes[i].tick_params(axis=\"x\", rotation=90)\n",
    "\n",
    "    for j in range(i+1, len(axes)):\n",
    "        axes[j].axis(\"off\")\n",
    "\n",
    "    fig.suptitle(titulo, fontsize=16, y=1.02)\n",
    "    plt.tight_layout()\n",
    "    plt.show()"
   ]
  },
  {
   "cell_type": "code",
   "execution_count": null,
   "id": "c1e15d4f",
   "metadata": {},
   "outputs": [],
   "source": [
    "# --- Contexto sociodemográfico --- #\n",
    "plot_subtema(df, [\"escuela\", \"genero\", \"edad\"],\n",
    "             \"01 Contexto sociodemográfico\")"
   ]
  },
  {
   "cell_type": "markdown",
   "id": "0aa50e0c",
   "metadata": {},
   "source": [
    "#### 01. Conclusiones contexto sociodemográfico\n",
    "\n",
    "- **Escuela**: ligera mayor representación de “Gabriel Pereira”. Puede introducir sesgo, pero también permite comparar entre escuelas.  \n",
    "- **Género**: predominan las mujeres → posible sesgo en el modelo.  \n",
    "- **Tamaño de familia**: la mayoría vive en familias pequeñas (≤3 miembros)."
   ]
  },
  {
   "cell_type": "code",
   "execution_count": null,
   "id": "add3e36b",
   "metadata": {},
   "outputs": [],
   "source": [
    "# --- Entorno familiar y académico --- #\n",
    "plot_subtema(df, [\"tam_fam\",\"conv_padres\", \"ne_madre\", \"ne_padre\",\n",
    "                  \"apoyo_fam\", \"apoyo_edu\", \"clases_extra\"],\n",
    "             \"02 Entorno familiar y académico\")"
   ]
  },
  {
   "cell_type": "markdown",
   "id": "07cd209d",
   "metadata": {},
   "source": [
    "#### 02. Conclusiones entorno familiar y académico  \n",
    "- **Apoyo familiar**: la mayoría **sí recibe apoyo familiar**, correlacionando probablemente con mejor rendimiento.  \n",
    "- **Apoyo educativo extra**: muy pocos lo reciben → podría ser un factor diferenciador.  \n",
    "- **Clases extra**: casi todos no reciben → variable con poco poder discriminante."
   ]
  },
  {
   "cell_type": "code",
   "execution_count": null,
   "id": "c9f5fb0d",
   "metadata": {},
   "outputs": [],
   "source": [
    "# --- Hábitos de estudio --- #\n",
    "plot_subtema(df, [\"hrs_estudio\", \"materias_reprobadas\", \"faltas\"],\n",
    "             \"03 Hábitos de estudio\")"
   ]
  },
  {
   "cell_type": "markdown",
   "id": "857d9820",
   "metadata": {},
   "source": [
    "#### 03. Conclusiones hábitos de estudio\n",
    "- **Horas de estudio**: la mayoría estudia <2 horas o entre 2–5 horas; pocos superan las 10 horas. Esto puede explicar parte de la reprobación.  \n",
    "- **Materias reprobadas**: mayoría no ha reprobado, pero un subgrupo tiene varias → podría ser fuerte predictor de desempeño."
   ]
  },
  {
   "cell_type": "code",
   "execution_count": null,
   "id": "b9e1dce1",
   "metadata": {},
   "outputs": [],
   "source": [
    "# --- Acceso a recursos --- #\n",
    "plot_subtema(df, [\"internet_casa\", \"quiere_superior\"],\n",
    "             \"04 Acceso a recursos\")"
   ]
  },
  {
   "cell_type": "markdown",
   "id": "306afcba",
   "metadata": {},
   "source": [
    "#### 04. Conclusiones acceso a recursos\n",
    "- **Internet en casa**: la mayoría sí cuenta con acceso → podría relacionarse con mejor desempeño académico.  \n",
    "- **Deseo de estudios superiores**: la mayoría **sí quiere continuar** → indicador de motivación."
   ]
  },
  {
   "cell_type": "code",
   "execution_count": null,
   "id": "e07d9722",
   "metadata": {},
   "outputs": [],
   "source": [
    "# --- Vida personal y social --- #\n",
    "plot_subtema(df, [\"pareja\", \"rel_fam\", \"tiempo_libre\",\n",
    "                  \"salidas\", \"actividades_extra\"],\n",
    "             \"05 Vida personal y social\")"
   ]
  },
  {
   "cell_type": "markdown",
   "id": "2fbb12ab",
   "metadata": {},
   "source": [
    "#### 5. Conclusiones vida personal y social\n",
    "- **Pareja**: más de la mitad no tiene → efecto en rendimiento no claro, se debe analizar con target.  \n",
    "- **Relación familiar**: predominan “Buena” y “Excelente” → relaciones deterioradas podrían correlacionar con riesgo de reprobación.  \n",
    "- **Tiempo libre**: mayoría entre “Regular” y “Mucho” → puede aportar matices en combinación con otras variables.  "
   ]
  },
  {
   "cell_type": "code",
   "execution_count": null,
   "id": "f0296185",
   "metadata": {},
   "outputs": [],
   "source": [
    "# --- Conductas de riesgo --- #\n",
    "plot_subtema(df, [\"alc_dia\", \"alc_finde\"],\n",
    "             \"06 Conductas de riesgo\")"
   ]
  },
  {
   "cell_type": "markdown",
   "id": "df4430fb",
   "metadata": {},
   "source": [
    "#### 6. Conclusiones conductas de riesgo\n",
    "- **Consumo de alcohol diario (alc_dia)**: mayoría “Muy bajo” → no parece un problema general.  \n",
    "- **Consumo de alcohol en fines de semana (alc_finde)**: más disperso (desde “Muy bajo” hasta “Muy Alto”) → predictor relevante en casos extremos."
   ]
  },
  {
   "cell_type": "code",
   "execution_count": null,
   "id": "1e647fa6",
   "metadata": {},
   "outputs": [],
   "source": [
    "# --- salud --- #\n",
    "plot_subtema(df, [\"salud\"], \"07 Salud\")"
   ]
  },
  {
   "cell_type": "markdown",
   "id": "c4d8a67b",
   "metadata": {},
   "source": [
    "#### 7. Conclusiones salud\n",
    "- Predominan niveles de salud “Muy buena” y “Regular”.  "
   ]
  },
  {
   "cell_type": "markdown",
   "id": "c5a5bf4e",
   "metadata": {},
   "source": [
    "Las variables con mayor potencial predictivo del rendimiento académico (`Aprobado` / `Reprobado`) según lo observado anteriormente son:  \n",
    "\n",
    "- `materias_reprobadas` (historial escolar)  \n",
    "- `hrs_estudio` (hábitos de estudio)  \n",
    "- `apoyo_fam` y `rel_fam` (entorno familiar)  \n",
    "- `internet_casa` y `quiere_superior` (recursos y motivación)  \n",
    "- `alc_finde` (conductas de riesgo social)"
   ]
  },
  {
   "cell_type": "markdown",
   "id": "a7028ffc",
   "metadata": {},
   "source": [
    "### EDA _(Análisis exploratorio de datos)_ Multivariado"
   ]
  },
  {
   "cell_type": "markdown",
   "id": "8d4b8d56",
   "metadata": {},
   "source": [
    "Antes de iniciar el análisis multivariado, convertimos la variable objetivo `nota_final` en categórica (`Aprobado` / `Reprobado`). \n",
    "\n",
    "Para ello, establecemos un umbral de aprobación en 10 (sobre 20). "
   ]
  },
  {
   "cell_type": "code",
   "execution_count": null,
   "id": "e96cc94a",
   "metadata": {},
   "outputs": [],
   "source": [
    "## Paréntesis (convertir variable objetivo a categórica)\n",
    "df[\"y\"] = df[\"nota_final\"].apply(lambda x: \"Reprobado\" if x < 10 else \"Aprobado\")"
   ]
  },
  {
   "cell_type": "code",
   "execution_count": null,
   "id": "a738c155",
   "metadata": {},
   "outputs": [],
   "source": [
    "# Target\n",
    "df.y.value_counts()"
   ]
  },
  {
   "cell_type": "code",
   "execution_count": null,
   "id": "afa51d40",
   "metadata": {},
   "outputs": [],
   "source": [
    "# Gráfico del target (y)\n",
    "fig, ax = plt.subplots(figsize=(4, 3))\n",
    "sns.countplot(x=\"y\", hue=\"y\", data=df, palette=\"Set2\", ax=ax, legend=False)\n",
    "ax.set_title(\"Distribución de aprobados y reprobados\")\n",
    "plt.show()"
   ]
  },
  {
   "cell_type": "markdown",
   "id": "e9a197db",
   "metadata": {},
   "source": [
    "**Observaciones**:\n",
    "\n",
    "* hay muchos más \"Aprobados\" (~500) que \"Reprobados\" (~150).\n",
    "\n",
    "* Esto genera un _conjunto de datos desbalanceado_, porque una clase domina claramente sobre la otra."
   ]
  },
  {
   "cell_type": "code",
   "execution_count": null,
   "id": "9ead6bba",
   "metadata": {},
   "outputs": [],
   "source": [
    "sns.pairplot(df, vars=['edad'], hue=\"y\", palette=\"husl\")\n",
    "plt.show()"
   ]
  },
  {
   "cell_type": "markdown",
   "id": "5805e071",
   "metadata": {},
   "source": [
    "La edad _(variable cuantitativa)_ no parece tener un poder predictivo fuerte para diferenciar aprobados y reprobados."
   ]
  },
  {
   "cell_type": "code",
   "execution_count": null,
   "id": "efc4288f",
   "metadata": {},
   "outputs": [],
   "source": [
    "def plot_multivariado(df, cols, titulo, ncols=3):\n",
    "    \"\"\"\n",
    "    Gráficos de barras para variables categóricas vs variable objetivo (y).\n",
    "    \"\"\"\n",
    "    cols = [c for c in cols if c in df.columns]\n",
    "    if not cols:\n",
    "        return\n",
    "    \n",
    "    n = len(cols)\n",
    "    nrows = (n + ncols - 1) // ncols\n",
    "    fig, axes = plt.subplots(nrows=nrows, ncols=ncols, figsize=(18, 5*nrows))\n",
    "    axes = axes.flatten()\n",
    "    \n",
    "    for i, col in enumerate(cols):\n",
    "        order = orden_categorias.get(col, None)\n",
    "        \n",
    "        sns.countplot(\n",
    "            x=col,\n",
    "            hue=\"y\",\n",
    "            data=df,\n",
    "            palette=\"pastel\",\n",
    "            ax=axes[i],\n",
    "            order=order\n",
    "        )\n",
    "        \n",
    "        axes[i].set_title(f\"{col} vs Aprobado/Reprobado\")\n",
    "        axes[i].tick_params(axis=\"x\", rotation=90)\n",
    "\n",
    "    for j in range(i+1, len(axes)):\n",
    "        fig.delaxes(axes[j])\n",
    "\n",
    "    fig.suptitle(titulo, fontsize=16, y=1.02)\n",
    "    plt.tight_layout()\n",
    "    plt.show()"
   ]
  },
  {
   "cell_type": "code",
   "execution_count": null,
   "id": "29411a34",
   "metadata": {},
   "outputs": [],
   "source": [
    "# --- Contexto sociodemográfico --- #\n",
    "plot_multivariado(df, [\"escuela\", \"genero\", \"tam_fam\"],\n",
    "                  \"01 Contexto sociodemográfico\")"
   ]
  },
  {
   "cell_type": "markdown",
   "id": "c6c77705",
   "metadata": {},
   "source": [
    "#### Conclusiones contexto sociodemográfico\n",
    "- **Género**: Las mujeres tienden a tener un desempeño académico ligeramente superior al de los hombres.  \n",
    "- **Tamaño familiar**: No parece haber una relación directa entre tamaño de familia y rendimiento, aunque en familias más grandes la proporción de aprobados es mayor."
   ]
  },
  {
   "cell_type": "code",
   "execution_count": null,
   "id": "67fbe275",
   "metadata": {},
   "outputs": [],
   "source": [
    "# --- Entorno familiar y académico --- #\n",
    "plot_multivariado(df, [\"conv_padres\", \"ne_madre\", \"ne_padre\",\n",
    "                       \"apoyo_fam\", \"apoyo_edu\", \"clases_extra\"],\n",
    "                  \"02 Entorno familiar y académico\")"
   ]
  },
  {
   "cell_type": "markdown",
   "id": "070f33a2",
   "metadata": {},
   "source": [
    "#### 02 Conclusiones entorno familiar y académico\n",
    "- **Conv_padres**: No hay una diferencia clara; en ambos grupos la mayoría aprueba.\n",
    "- **Nivel educativo de padres (ne_madre, ne_padre)**: El mayor nivel educativo de la madre coincide con más aprobados, aunque la mayoría aprueba en todos los casos.   \n",
    "- **Apoyo familiar**: El apoyo familiar está asociado con más aprobados, aunque en ambos grupos los aprobados predominan.\n",
    "- **Apoyo educativo**: El apoyo educativo coincide con un porcentaje muy alto de aprobados.  (***)\n",
    "- **Clases extra**: Las clases extra están asociadas con una tasa muy alta de aprobados. (***)"
   ]
  },
  {
   "cell_type": "code",
   "execution_count": null,
   "id": "00b07c9e",
   "metadata": {},
   "outputs": [],
   "source": [
    "# --- Hábitos de estudio --- #\n",
    "plot_multivariado(df, [\"hrs_estudio\", \"materias_reprobadas\", \"faltas\"],\n",
    "                  \"03 Hábitos de estudio\")"
   ]
  },
  {
   "cell_type": "markdown",
   "id": "b2141e46",
   "metadata": {},
   "source": [
    "#### 03 Conclusiones hábitos de estudio\n",
    " \n",
    "- **Materias reprobadas**: La presencia de materias reprobadas previas está asociada a una mayor proporción de reprobados. (***)\n",
    "- **faltas**: En todos los niveles de faltas predominan los aprobados; no se observa que los reprobados lleguen a superar a los aprobados."
   ]
  },
  {
   "cell_type": "code",
   "execution_count": null,
   "id": "ad136e41",
   "metadata": {},
   "outputs": [],
   "source": [
    "# --- Acceso a recursos --- #\n",
    "plot_multivariado(df, [\"internet_casa\", \"quiere_superior\"],\n",
    "                  \"04 Acceso a recursos\")"
   ]
  },
  {
   "cell_type": "markdown",
   "id": "8b7f779c",
   "metadata": {},
   "source": [
    "#### 04 Conclusiones acceso a recursos\n",
    "- **Internet en casa**: En ambos grupos predominan los aprobados.  \n",
    "- **Querer estudios superiores**: El grupo que manifiesta querer estudiar superior se asocia con más aprobados; en cambio, en el grupo que no lo quiere hay más reprobados. (***)\n"
   ]
  },
  {
   "cell_type": "code",
   "execution_count": null,
   "id": "90b1dd8b",
   "metadata": {},
   "outputs": [],
   "source": [
    "# Celda 5: Vida personal y social\n",
    "plot_multivariado(df, [\"pareja\", \"rel_fam\", \"tiempo_libre\",\n",
    "                       \"salidas\", \"actividades_extra\"],\n",
    "                  \"05 Vida personal y social\")"
   ]
  },
  {
   "cell_type": "markdown",
   "id": "808112e5",
   "metadata": {},
   "source": [
    "#### 05 Conclusiones vida personal y social\n",
    "- **Pareja**: En ambos grupos predominan los aprobados.\n",
    "- **Relación familiar**: Independientemente de la relación familiar, siempre predominan los aprobados.\n",
    "- **Tiempo libre**: En cualquier nivel de tiempo libre predominan los aprobados."
   ]
  },
  {
   "cell_type": "code",
   "execution_count": null,
   "id": "fc0c65bc",
   "metadata": {},
   "outputs": [],
   "source": [
    "# Celda 6: Conductas de riesgo\n",
    "plot_multivariado(df, [\"alc_dia\", \"alc_finde\"],\n",
    "                  \"06 Conductas de riesgo\")"
   ]
  },
  {
   "cell_type": "markdown",
   "id": "fb0387e6",
   "metadata": {},
   "source": [
    "#### 06 Conclusiones conductas de riesgo\n",
    "- **Consumo de alcohol entre semana (alc_dia)**: En cualquier nivel de consumo diario, predominan los aprobados.\n",
    "- **Consumo de alcohol en fines de semana (alc_finde)**: En todos los niveles de consumo de fin de semana, los aprobados son más que los reprobados.\n"
   ]
  },
  {
   "cell_type": "code",
   "execution_count": null,
   "id": "3a0c2346",
   "metadata": {},
   "outputs": [],
   "source": [
    "# Celda 7: Salud\n",
    "plot_multivariado(df, [\"salud\"], \"07 Salud\")"
   ]
  },
  {
   "cell_type": "markdown",
   "id": "7f619718",
   "metadata": {},
   "source": [
    "#### 07 Concluiones salud\n",
    "- **Salud**: sugiere que la variable “salud” por sí sola no discrimina bien entre aprobar/reprobar.\n"
   ]
  },
  {
   "cell_type": "markdown",
   "id": "c6e3b7dd",
   "metadata": {},
   "source": [
    "### 📊 Comparación de variables predictivas\n",
    "\n",
    "| **Categoría**              | **Univariado** | **Multivariado** | **Comentario** |\n",
    "|-----------------------------|--------------------------|-----------------------------|----------------|\n",
    "| **Historial escolar**       | `faltas`, `materias_reprobadas` | `faltas`, `materias_reprobadas` | Se confirman como predictoras. |\n",
    "| **Hábitos de estudio**      | `hrs_estudio`            | `hrs_estudio`               | Se confirma como predictor sólido. |\n",
    "| **Entorno familiar**        | `apoyo_fam`, `rel_fam`   | `apoyo_fam`, `apoyo_edu`, `clases_extra` | En multivariado aparecen **apoyo_edu** y **clases_extra** como relevantes. |\n",
    "| **Recursos y motivación**   | `internet_casa`, `quiere_superior` | `quiere_superior` | La motivación sí predice, el acceso a internet no tanto. |\n",
    "| **Conductas de riesgo**     | `alc_finde`              | - | Se matiza: `alc_finde` tiene efecto limitado. |"
   ]
  },
  {
   "cell_type": "markdown",
   "id": "a57ec0df",
   "metadata": {},
   "source": [
    "## Preprocesamiento de datos"
   ]
  },
  {
   "cell_type": "markdown",
   "id": "cfc5a395",
   "metadata": {},
   "source": [
    "### Verificación de valores nulos"
   ]
  },
  {
   "cell_type": "code",
   "execution_count": null,
   "id": "68e0b282",
   "metadata": {},
   "outputs": [],
   "source": [
    "# Nulos\n",
    "df.isnull().sum()"
   ]
  },
  {
   "cell_type": "markdown",
   "id": "cdb75887",
   "metadata": {},
   "source": [
    "### Codificación de variables categóricas"
   ]
  },
  {
   "cell_type": "code",
   "execution_count": null,
   "id": "b0e51e71",
   "metadata": {},
   "outputs": [],
   "source": [
    "df.info()"
   ]
  },
  {
   "cell_type": "code",
   "execution_count": null,
   "id": "083c50f2",
   "metadata": {},
   "outputs": [],
   "source": [
    "# Partimos de una copia (siempre es buena práctica)\n",
    "df_int = df.copy()"
   ]
  },
  {
   "cell_type": "code",
   "execution_count": null,
   "id": "8c167b4a",
   "metadata": {},
   "outputs": [],
   "source": [
    "# Aplicar mapeo numérico respetando el orden\n",
    "\n",
    "for col, orden in orden_categorias.items():\n",
    "    if col in df_int.columns and col != \"y\":\n",
    "        mapping = {cat: i for i, cat in enumerate(orden)}\n",
    "        df_int[col] = df_int[col].map(mapping)"
   ]
  },
  {
   "cell_type": "code",
   "execution_count": null,
   "id": "8ed525e0",
   "metadata": {},
   "outputs": [],
   "source": [
    "df_int"
   ]
  },
  {
   "cell_type": "code",
   "execution_count": null,
   "id": "6ee7201d",
   "metadata": {},
   "outputs": [],
   "source": [
    "df.internet_casa.value_counts()"
   ]
  },
  {
   "cell_type": "code",
   "execution_count": null,
   "id": "2faf8657",
   "metadata": {},
   "outputs": [],
   "source": [
    "df_int.internet_casa.value_counts()"
   ]
  },
  {
   "cell_type": "code",
   "execution_count": null,
   "id": "438c4a4b",
   "metadata": {},
   "outputs": [],
   "source": [
    "df_int.info()"
   ]
  },
  {
   "cell_type": "code",
   "execution_count": null,
   "id": "3aa27381",
   "metadata": {},
   "outputs": [],
   "source": [
    "df_int['y_bin'] = df_int['y'].map({'Reprobado': 0, 'Aprobado': 1})"
   ]
  },
  {
   "cell_type": "markdown",
   "id": "6bd6480d",
   "metadata": {},
   "source": [
    "#### Encoding después de convertir todo a `int64`\n",
    "\n",
    "Ya transformamos todas las columnas ``categóricas`` a `int64`, entonces:\n",
    "\n",
    "1. **Ordinales**: ya están listas, porque sus valores numéricos tienen sentido  \n",
    "   (ej: `Muy malo=0 … Muy bueno=4`).\n",
    "   - No necesitan más encoding.\n",
    "   - Se quedan como `int`.\n",
    "\n",
    "2. **Binarias** (Sí/No, 0/1): también ya están listas si las mapeamos a 0 y 1.\n",
    "   - Conservar como `int`."
   ]
  },
  {
   "cell_type": "markdown",
   "id": "3419e9c5",
   "metadata": {},
   "source": [
    "## Primer enfoque: Modelo de Regresión Logística con todas las variables"
   ]
  },
  {
   "cell_type": "code",
   "execution_count": null,
   "id": "d2559b95",
   "metadata": {},
   "outputs": [],
   "source": [
    "from sklearn.model_selection import train_test_split\n",
    "from sklearn.linear_model import LogisticRegression\n",
    "from sklearn.metrics import classification_report"
   ]
  },
  {
   "cell_type": "markdown",
   "id": "6049c934",
   "metadata": {},
   "source": [
    "### Conceptos básicos de ML supervisado\n",
    "\n",
    "En Machine Learning, siempre distinguimos entre:\n",
    "\n",
    "- **Variables predictoras (features, `X`)**  \n",
    "  Son las características de entrada que usamos para explicar o predecir un fenómeno.  \n",
    "  Ejemplo: edad, género, faltas, horas de estudio...\n",
    "\n",
    "- **Etiqueta (target, `y`)**  \n",
    "  Es lo que queremos predecir. En aprendizaje supervisado siempre la conocemos en los datos de entrenamiento.  \n",
    "  Ejemplo: aprobado (1) o reprobado (0).  \n",
    "\n",
    "En notación matemática, lo escribimos así:\n",
    "\n",
    "$$\n",
    "X = \\{x_1, x_2, \\dots, x_n\\} \\quad \\text{(variables predictoras)}\n",
    "$$\n",
    "\n",
    "$$\n",
    "y \\in \\{0, 1\\} \\quad \\text{(variable objetivo o etiqueta)}\n",
    "$$\n"
   ]
  },
  {
   "cell_type": "markdown",
   "id": "cf51bfc8",
   "metadata": {},
   "source": [
    "### ¿Qué hace el modelo de ML?\n",
    "\n",
    "El modelo busca una función $f$ que relacione las variables predictoras $X$ con la etiqueta $y$:\n",
    "\n",
    "$$\n",
    "f(X) \\approx y\n",
    "$$\n",
    "\n",
    "Ejemplo:\n",
    "\n",
    "- Si $X = [\\text{edad}=16, \\ \\text{faltas}=10, \\ \\text{horas\\_estudio}=2]$  \n",
    "- El modelo devuelve: $\\hat{y} = 0$ (predice Reprobado)\n",
    "\n",
    "El entrenamiento consiste en **ajustar los parámetros de $f$** para minimizar el error entre la predicción $\\hat{y}$ y la etiqueta real $y$.\n"
   ]
  },
  {
   "cell_type": "code",
   "execution_count": null,
   "id": "7177b586",
   "metadata": {},
   "outputs": [],
   "source": [
    "# Definimos las X (vars predictoras) y y (target)\n",
    "X = df_int.drop(columns=[\"nota_final\", \"y\", \"y_bin\"])\n",
    "y = df_int[\"y_bin\"]"
   ]
  },
  {
   "cell_type": "markdown",
   "id": "7e20ba86",
   "metadata": {},
   "source": [
    "### División Train/Test\n",
    "\n",
    "En Machine Learning no entrenamos y evaluamos el modelo con los mismos datos, porque\n",
    "eso generaría **sobreajuste (overfitting)**.\n",
    "\n",
    "Por eso dividimos el dataset en dos partes:\n",
    "\n",
    "- **Train (80%)** → datos que el modelo usa para aprender la función $f(X) \\to y$  \n",
    "- **Test (20%)** → datos que el modelo nunca vio, y que usamos para evaluar\n",
    "  si realmente generaliza bien a nuevos casos.\n",
    "\n",
    "*OJO: los porcentajes pueden variar (70/30, 90/10), pero 80/20 es lo más común.*\n",
    "\n",
    "#### Fórmulas:\n",
    "\n",
    "Si tenemos $N$ observaciones:\n",
    "\n",
    "$$\n",
    "N_{train} = (1 - test\\_size) \\cdot N\n",
    "$$\n",
    "\n",
    "$$\n",
    "N_{test} = test\\_size \\cdot N\n",
    "$$"
   ]
  },
  {
   "cell_type": "code",
   "execution_count": null,
   "id": "e14c3bbe",
   "metadata": {},
   "outputs": [],
   "source": [
    "# División train/test\n",
    "X_train, X_test, y_train, y_test = train_test_split(X, y, \n",
    "                                    test_size=0.2,\n",
    "                                    random_state=42,\n",
    "                                    stratify=y)"
   ]
  },
  {
   "cell_type": "code",
   "execution_count": null,
   "id": "093fbf6f",
   "metadata": {},
   "outputs": [],
   "source": [
    "X_train"
   ]
  },
  {
   "cell_type": "code",
   "execution_count": null,
   "id": "a22a1fa2",
   "metadata": {},
   "outputs": [],
   "source": [
    "print(\"Tamaño de X_train:\", X_train.shape)\n",
    "print(\"Tamaño de X_test:\", X_test.shape)"
   ]
  },
  {
   "cell_type": "markdown",
   "id": "c3dffea8",
   "metadata": {},
   "source": [
    "### Modelo 1: Regresión Logística"
   ]
  },
  {
   "cell_type": "markdown",
   "id": "32f6b318",
   "metadata": {},
   "source": [
    "![regresion_logistica](../docs/_static/img8.png)"
   ]
  },
  {
   "cell_type": "markdown",
   "id": "513ef5ec",
   "metadata": {},
   "source": [
    "La **regresión logística** es un modelo supervisado que estima probabilidades y clasifica en dos categorías (ej. Aprobado/Reprobado).  \n",
    "  \n",
    "\n",
    "##### Función sigmoide\n",
    "\n",
    " - Transforma cualquier número real en un valor entre 0 y 1.\n",
    " - Resultado cercano a 1 (evento probable) o cercano a 0 (evento improbable).\n",
    "\n",
    "##### Frontera de decisión\n",
    "\n",
    "- Se usa un umbral (threshold) normalmente de 0.5 para decidir la clase final.\n",
    "    - Si $P(y=1 \\mid X) \\geq 0.5$ → predecimos clase 1 (Aprobado)\n",
    "    - Si $P(y=1 \\mid X) < 0.5$ → predecimos clase 0 (Reprobado)\n",
    "\n",
    "##### Modelo matemático\n",
    "\n",
    "$$\n",
    "P(y=1 \\mid X) = \\frac{1}{1 + e^{-(\\beta_0 + \\beta_1 x_1 + \\dots + \\beta_n x_n)}}\n",
    "$$\n",
    "\n",
    "- $P(y=1 \\mid X)$ → probabilidad de aprobar dado $X$  \n",
    "- $\\beta_0$ → intercepto  \n",
    "- $\\beta_i$ → pesos que aprende el modelo para cada variable $x_i$\n",
    "\n",
    "##### Entrenamiento del modelo\n",
    "- Se usa la **función de costo** de entropía cruzada (log loss).  \n",
    "- Mediante **descenso de gradiente** _(algoritmo de optimización)_, los parámetros $\\beta$ se ajustan para minimizar el error y mejorar la predicción.  "
   ]
  },
  {
   "cell_type": "code",
   "execution_count": null,
   "id": "5fc47196",
   "metadata": {},
   "outputs": [],
   "source": [
    "# ===============================\n",
    "# Modelo 1: Regresión logística\n",
    "# ===============================\n",
    "\n",
    "log_reg_base = LogisticRegression(max_iter=1000,\n",
    "                                  class_weight='balanced',\n",
    "                                  random_state=42)\n",
    "\n",
    "# Entrenamiento: el modelo ajusta los β's (pesos)\n",
    "log_reg_base.fit(X_train, y_train)"
   ]
  },
  {
   "cell_type": "markdown",
   "id": "e5c12913",
   "metadata": {},
   "source": [
    "##### En la práctica (Scikit-learn)\n",
    "En **Scikit-learn**, la clase `LogisticRegression` ya integra:  \n",
    "- El modelo matemático.  \n",
    "- La función de costo (log loss).  \n",
    "- El algoritmo de optimización (por defecto, variantes de descenso de gradiente como *liblinear*, *saga*, etc.).  \n",
    "\n",
    "Solo es necesario importar la clase, entrenar con `fit()`."
   ]
  },
  {
   "cell_type": "markdown",
   "id": "84ea7aed",
   "metadata": {},
   "source": [
    "---"
   ]
  },
  {
   "cell_type": "markdown",
   "id": "198c6978",
   "metadata": {},
   "source": [
    "### Evaluación del modelo\n",
    "\n",
    "Una vez entrenado el modelo, necesitamos ver **qué tan bien predice en datos nuevos** (los de test).  \n",
    "\n",
    "Para eso usamos ``predict()``:"
   ]
  },
  {
   "cell_type": "code",
   "execution_count": null,
   "id": "53d349dd",
   "metadata": {},
   "outputs": [],
   "source": [
    "# Evaluación\n",
    "y_pred_log = log_reg_base.predict(X_test)"
   ]
  },
  {
   "cell_type": "markdown",
   "id": "9026632c",
   "metadata": {},
   "source": [
    "## Métricas de evaluación en clasificación"
   ]
  },
  {
   "cell_type": "markdown",
   "id": "8babfd9c",
   "metadata": {},
   "source": [
    "### Matriz de confusión\n",
    "\n",
    "La matriz de confusión muestra cómo se distribuyen las predicciones del modelo:\n",
    "\n",
    "|               | Predicción = 0 (Reprobado) | Predicción = 1 (Aprobado) |\n",
    "|---------------|----------------------------|----------------------------|\n",
    "| **Real = 0**  | TN (True Negatives)        | FP (False Positives)       |\n",
    "| **Real = 1**  | FN (False Negatives)       | TP (True Positives)        |\n",
    "\n",
    "- **TP:** Casos reales positivos bien clasificados (ej. aprobados que predije como aprobados).  \n",
    "- **TN:** Casos reales negativos bien clasificados (ej. reprobados que predije como reprobados).  \n",
    "- **FP:** Casos negativos mal clasificados como positivos (ej. reprobados predichos como aprobados).  \n",
    "- **FN:** Casos positivos mal clasificados como negativos (ej. aprobados predichos como reprobados). "
   ]
  },
  {
   "cell_type": "markdown",
   "id": "53f3affa",
   "metadata": {},
   "source": [
    "\n",
    "\n",
    "Una vez que tenemos las predicciones (`y_pred`), las comparamos contra las etiquetas reales (`y_true`).  \n",
    "\n",
    "En clasificación binaria las métricas más comunes son:\n",
    "\n",
    "#### 1. Accuracy (Exactitud)\n",
    "Proporción de aciertos sobre el total.\n",
    "\n",
    "$$\n",
    "\\text{Accuracy} = \\frac{TP + TN}{TP + TN + FP + FN}\n",
    "$$\n",
    "\n",
    "- TP = True Positives  \n",
    "- TN = True Negatives  \n",
    "- FP = False Positives  \n",
    "- FN = False Negatives  \n",
    "\n",
    "\n",
    "#### 2. Precision (Precisión)\n",
    "De los que predije como positivos, ¿cuántos realmente lo eran?\n",
    "\n",
    "$$\n",
    "\\text{Precision} = \\frac{TP}{TP + FP}\n",
    "$$\n",
    "\n",
    "\n",
    "#### 3. Recall (Sensibilidad o Exhaustividad)\n",
    "De los que realmente eran positivos, ¿cuántos logré detectar?\n",
    "\n",
    "$$\n",
    "\\text{Recall} = \\frac{TP}{TP + FN}\n",
    "$$\n",
    "\n",
    "\n",
    "#### 4. F1-Score\n",
    "Media armónica entre precisión y recall. Útil en datasets desbalanceados.\n",
    "\n",
    "$$\n",
    "F1 = 2 \\cdot \\frac{\\text{Precision} \\cdot \\text{Recall}}{\\text{Precision} + \\text{Recall}}\n",
    "$$"
   ]
  },
  {
   "cell_type": "code",
   "execution_count": null,
   "id": "c30950b6",
   "metadata": {},
   "outputs": [],
   "source": [
    "from sklearn.metrics import accuracy_score, precision_score, recall_score, f1_score\n",
    "\n",
    "def resumen_metricas(y_true, y_pred, modelo_nombre):\n",
    "    print(f\"\\n📊 Resultados para {modelo_nombre}:\")\n",
    "    print(f\"Accuracy : {accuracy_score(y_true, y_pred):.2f}\")\n",
    "    print(f\"Precision: {precision_score(y_true, y_pred):.2f}\")\n",
    "    print(f\"Recall   : {recall_score(y_true, y_pred):.2f}\")\n",
    "    print(f\"F1-score : {f1_score(y_true, y_pred):.2f}\")"
   ]
  },
  {
   "cell_type": "code",
   "execution_count": null,
   "id": "74cbbab7",
   "metadata": {},
   "outputs": [],
   "source": [
    "# Evaluar regresión logística\n",
    "y_pred_log = log_reg_base.predict(X_test)\n",
    "resumen_metricas(y_test, y_pred_log, \"Regresión Logística\")"
   ]
  },
  {
   "cell_type": "code",
   "execution_count": null,
   "id": "4deb0d87",
   "metadata": {},
   "outputs": [],
   "source": [
    "from sklearn.metrics import confusion_matrix, ConfusionMatrixDisplay\n",
    "\n",
    "cm = confusion_matrix(y_test, y_pred_log)\n",
    "\n",
    "disp = ConfusionMatrixDisplay(confusion_matrix=cm, \n",
    "                              display_labels=[\"Reprobado\", \"Aprobado\"])\n",
    "disp.plot(cmap=\"Blues\")"
   ]
  },
  {
   "cell_type": "markdown",
   "id": "06f0fff5",
   "metadata": {},
   "source": [
    "# Matriz de confusión (interpretación)\n",
    "\n",
    "| Real \\ Predicción | Reprobado (0) | Aprobado (1) |\n",
    "|-------------------|---------------|--------------|\n",
    "| **Reprobado (0)** | 12 (TN)       | 17 (FP)      |\n",
    "| **Aprobado (1)**  | 14 (FN)       | 87 (TP)      |\n",
    "\n",
    "\n",
    "- **TN (12):** Reprobados correctamente.  \n",
    "- **TP (87):** Aprobados correctamente.  \n",
    "- **FP (17):** Reprobados que el modelo predijo como aprobados (error tipo I).  \n",
    "- **FN (14):** Aprobados que el modelo predijo como reprobados (error tipo II).  \n"
   ]
  },
  {
   "cell_type": "markdown",
   "id": "e6bbec97",
   "metadata": {},
   "source": [
    "## Segundo enfoque: Modelo de Árbol de decisión con todas las variables"
   ]
  },
  {
   "cell_type": "markdown",
   "id": "102b1dda",
   "metadata": {},
   "source": [
    "##### Entrenamiento del modelo\n",
    "- El algoritmo construye el árbol eligiendo en cada paso la variable y el punto de corte que mejor separa las clases.  \n",
    "\n",
    "##### Criterio de división\n",
    "- Para clasificar, se usan medidas de impureza como:  \n",
    "  - **Gini** (por defecto en Scikit-learn).  \n",
    "  - **Entropía** (información ganada)."
   ]
  },
  {
   "cell_type": "code",
   "execution_count": null,
   "id": "5e6854bb",
   "metadata": {},
   "outputs": [],
   "source": [
    "# ===============================\n",
    "# Modelo 2: Árbol de Decisión\n",
    "# ===============================\n",
    "\n",
    "from sklearn.tree import DecisionTreeClassifier\n",
    "from sklearn.metrics import classification_report\n",
    "\n",
    "tree = DecisionTreeClassifier(criterion=\"gini\",\n",
    "                              class_weight=\"balanced\",\n",
    "                              random_state=42, \n",
    "                              max_depth=5)\n",
    "tree.fit(X_train, y_train)"
   ]
  },
  {
   "cell_type": "code",
   "execution_count": null,
   "id": "30e901a2",
   "metadata": {},
   "outputs": [],
   "source": [
    "# Evaluar árbol de decisión\n",
    "\n",
    "from sklearn.tree import plot_tree\n",
    "\n",
    "if hasattr(tree, \"feature_names_in_\") and tree.feature_names_in_ is not None:\n",
    "    feature_names = list(tree.feature_names_in_)\n",
    "elif hasattr(X_train, \"columns\"):\n",
    "    feature_names = list(X_train.columns)\n",
    "else:\n",
    "    feature_names = [f\"feat_{i}\" for i in range(tree.n_features_in_)]\n",
    "\n",
    "class_names = [str(c) for c in tree.classes_]\n",
    "\n",
    "plt.figure(figsize=(30,15), dpi=150)\n",
    "plot_tree(\n",
    "    tree,\n",
    "    feature_names=feature_names,\n",
    "    class_names=class_names,\n",
    "    filled=True,\n",
    "    rounded=True\n",
    ")\n",
    "plt.show()"
   ]
  },
  {
   "cell_type": "code",
   "execution_count": null,
   "id": "abdf8d58",
   "metadata": {},
   "outputs": [],
   "source": [
    "y_pred_tree = tree.predict(X_test)"
   ]
  },
  {
   "cell_type": "code",
   "execution_count": null,
   "id": "42744b47",
   "metadata": {},
   "outputs": [],
   "source": [
    "# Evaluar árbol de decisión\n",
    "y_pred_tree = tree.predict(X_test)\n",
    "resumen_metricas(y_test, y_pred_tree, \"Árbol de Decisión\")"
   ]
  },
  {
   "cell_type": "markdown",
   "id": "0f81aee6",
   "metadata": {},
   "source": [
    "## Tercer enfoque: Regresión Logística con solo variables con poder predictivo"
   ]
  },
  {
   "cell_type": "code",
   "execution_count": null,
   "id": "f503789a",
   "metadata": {},
   "outputs": [],
   "source": [
    "# 1. Variables seleccionadas según el EDA\n",
    "vars_relevantes = [\n",
    "    \"faltas\",\n",
    "    \"materias_reprobadas\",\n",
    "    \"hrs_estudio\",\n",
    "    \"apoyo_fam\",\n",
    "    \"apoyo_edu\",\n",
    "    \"clases_extra\",\n",
    "    \"quiere_superior\"\n",
    "]\n",
    "\n",
    "X = df_int[vars_relevantes]\n",
    "y = df_int[\"y_bin\"]"
   ]
  },
  {
   "cell_type": "code",
   "execution_count": null,
   "id": "382d8c4b",
   "metadata": {},
   "outputs": [],
   "source": [
    "# 2. Train/test split\n",
    "X_train, X_test, y_train, y_test = train_test_split(X, y, test_size=0.2, random_state=42, stratify=y)"
   ]
  },
  {
   "cell_type": "code",
   "execution_count": null,
   "id": "da36d70a",
   "metadata": {},
   "outputs": [],
   "source": [
    "# ===============================\n",
    "# Modelo 3: Regresión logística (EDA)\n",
    "# ===============================\n",
    "\n",
    "log_reg_sel = LogisticRegression(max_iter=1000, class_weight=\"balanced\")"
   ]
  },
  {
   "cell_type": "code",
   "execution_count": null,
   "id": "7627e567",
   "metadata": {},
   "outputs": [],
   "source": [
    "log_reg_sel.fit(X_train, y_train)"
   ]
  },
  {
   "cell_type": "code",
   "execution_count": null,
   "id": "6562bd08",
   "metadata": {},
   "outputs": [],
   "source": [
    "# 5. Evaluación\n",
    "y_pred_log = log_reg_sel.predict(X_test)\n",
    "resumen_metricas(y_test, y_pred_log, \"Regresión Logística (EDA)\")"
   ]
  },
  {
   "cell_type": "markdown",
   "id": "04e74798",
   "metadata": {},
   "source": [
    "## Cuarto enfoque: Árbol de decisión con solo variables con poder predictivo"
   ]
  },
  {
   "cell_type": "code",
   "execution_count": null,
   "id": "742eec63",
   "metadata": {},
   "outputs": [],
   "source": [
    "# ===============================\n",
    "# Modelo 4: Árbol de decisión (EDA)\n",
    "# ===============================\n",
    "\n",
    "tree_sel = DecisionTreeClassifier(random_state=42, class_weight=\"balanced\")"
   ]
  },
  {
   "cell_type": "code",
   "execution_count": null,
   "id": "fcb93dda",
   "metadata": {},
   "outputs": [],
   "source": [
    "tree_sel.fit(X_train, y_train)"
   ]
  },
  {
   "cell_type": "code",
   "execution_count": null,
   "id": "befbde27",
   "metadata": {},
   "outputs": [],
   "source": [
    "y_pred_tree = tree_sel.predict(X_test)\n",
    "resumen_metricas(y_test, y_pred_tree, \"Árbol de Decisión (EDA)\")"
   ]
  },
  {
   "cell_type": "markdown",
   "id": "cce694a7",
   "metadata": {},
   "source": [
    "### Resumen de los resultados"
   ]
  },
  {
   "cell_type": "markdown",
   "id": "5aa6420c",
   "metadata": {},
   "source": [
    "| Modelo                         | Accuracy | Precision | Recall | F1-score |\n",
    "|--------------------------------|----------|-----------|--------|----------|\n",
    "| Regresión Logística            | 0.71     | 0.86      | 0.74   | 0.80     |\n",
    "| Árbol de Decisión **             | 0.81     | 0.87      | 0.88   | 0.88     |\n",
    "| Regresión Logística (EDA) **     | 0.76     | 0.84      | 0.86   | 0.85     |\n",
    "| Árbol de Decisión (EDA)        | 0.69     | 0.80      | 0.80   | 0.80     |\n"
   ]
  },
  {
   "cell_type": "markdown",
   "id": "dce0d0ad",
   "metadata": {},
   "source": [
    "**Recuerda!! Este ejercicio fue sobre _clasificación_, sin embargo, como parte del aprendizaje supervisado, también existen modelos para problemas de _regresión_ (cuando la variable objetivo es continua).**"
   ]
  }
 ],
 "metadata": {
  "kernelspec": {
   "display_name": "ml-curso",
   "language": "python",
   "name": "python3"
  },
  "language_info": {
   "codemirror_mode": {
    "name": "ipython",
    "version": 3
   },
   "file_extension": ".py",
   "mimetype": "text/x-python",
   "name": "python",
   "nbconvert_exporter": "python",
   "pygments_lexer": "ipython3",
   "version": "3.11.11"
  }
 },
 "nbformat": 4,
 "nbformat_minor": 5
}
