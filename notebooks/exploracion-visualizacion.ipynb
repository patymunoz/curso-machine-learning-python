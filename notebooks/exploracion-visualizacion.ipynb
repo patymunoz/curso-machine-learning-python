{
 "cells": [
  {
   "cell_type": "markdown",
   "id": "54ceddae",
   "metadata": {},
   "source": [
    "# Exploración y visualización de datos"
   ]
  },
  {
   "cell_type": "markdown",
   "id": "dc5b71bd",
   "metadata": {},
   "source": [
    "## Conoce tus datos\n",
    "\n",
    "Antes de construir un modelo de _Machine Learning_ regularmente es una buena idea explorar y visualizar los datos.\n",
    "\n",
    "Inspeccionar los datos es una buena formar de identificar anormalidades y particularidades **que podrían afectar el desempeño de los modelos**.\n",
    "\n",
    "Una de las mejores manera de entender los datos es _visualizarlos_.\n",
    " \n",
    "Nuestro objetivo es **conocer y entender los datos antes de aplicar modelos de Machine Learning**.\n",
    "\n",
    "En este notebook iremos paso a paso:\n",
    "1. Cargar los datos y conocer su estructura.\n",
    "2. Realizar un análisis univariado (cada variable por separado).\n",
    "3. Realizar un análisis bivariado y multivariado (relaciones entre variables).\n",
    "4. Observar patrones que nos ayuden a diferenciar especies de Iris."
   ]
  },
  {
   "cell_type": "markdown",
   "id": "449a8039",
   "metadata": {},
   "source": [
    "### 1. Cargar los datos y conocer su estructura\n",
    "\n",
    "#### Importar bibliotecas"
   ]
  },
  {
   "cell_type": "code",
   "execution_count": null,
   "id": "06f370ea",
   "metadata": {},
   "outputs": [],
   "source": [
    "import pandas as pd\n",
    "import matplotlib.pyplot as plt\n",
    "import seaborn as sns"
   ]
  },
  {
   "cell_type": "code",
   "execution_count": null,
   "id": "96bf6845",
   "metadata": {},
   "outputs": [],
   "source": [
    "import warnings\n",
    "warnings.filterwarnings('ignore')"
   ]
  },
  {
   "cell_type": "markdown",
   "id": "85fc1efd",
   "metadata": {},
   "source": [
    "#### Importar datos"
   ]
  },
  {
   "cell_type": "code",
   "execution_count": null,
   "id": "4f95a8ff",
   "metadata": {},
   "outputs": [],
   "source": [
    "# Primera forma de conectarse con datos en repositorio\n",
    "from sklearn.datasets import load_iris\n",
    "\n",
    "iris = load_iris()\n",
    "iris"
   ]
  },
  {
   "cell_type": "code",
   "execution_count": null,
   "id": "6d80b780",
   "metadata": {},
   "outputs": [],
   "source": [
    "type(iris) # Bunch"
   ]
  },
  {
   "cell_type": "code",
   "execution_count": null,
   "id": "9a5b0698",
   "metadata": {},
   "outputs": [],
   "source": [
    "print(iris.target_names)"
   ]
  },
  {
   "cell_type": "markdown",
   "id": "bb2cabe4",
   "metadata": {},
   "source": [
    "A continuación, tendremos nuestros datos separados.\n",
    "\n",
    "Imagina los datos como una matriz donde cada fila es una **observación** y cada columna una **característica**:  \n",
    "\n",
    "$$\n",
    "X =\n",
    "\\begin{bmatrix}\n",
    "\\color{blue}{\\underbrace{5.1}_{x_{11}}} & \\color{blue}{\\underbrace{3.5}_{x_{12}}} & \\color{blue}{\\underbrace{1.4}_{x_{13}}} & \\color{blue}{\\underbrace{0.2}_{x_{14}}} \\\\\n",
    "4.9 & 3.0 & 1.4 & 0.2 \\\\\n",
    "7.0 & 3.2 & 4.7 & 1.4 \\\\\n",
    "6.4 & 3.2 & 4.5 & 1.5 \\\\\n",
    "6.3 & 3.3 & 6.0 & 2.5 \\\\\n",
    "\\vdots & \\vdots & \\vdots & \\vdots \\\\\n",
    "\\end{bmatrix}\n",
    "$$\n",
    "\n",
    "- Cada **fila** corresponde a una **observación** (ej. una flor medida).  \n",
    "- Cada **columna** corresponde a una **característica** (ej. longitud del sépalo, ancho del sépalo, etc.).  \n",
    "\n",
    "Podemos anotar explícitamente:  \n",
    "\n",
    "$$\n",
    "\\underbrace{\\begin{bmatrix}\n",
    "x_{11} & x_{12} & \\cdots & x_{1p} \\\\\n",
    "x_{21} & x_{22} & \\cdots & x_{2p} \\\\\n",
    "\\vdots & \\vdots & \\ddots & \\vdots \\\\\n",
    "x_{n1} & x_{n2} & \\cdots & x_{np} \\\\\n",
    "\\end{bmatrix}}_{\\text{Observaciones (filas)}}\n",
    "\\quad\n",
    "\\begin{matrix}\n",
    "\\updownarrow \\\\\n",
    "\\text{Características (columnas)}\n",
    "\\end{matrix}\n",
    "$$"
   ]
  },
  {
   "cell_type": "code",
   "execution_count": null,
   "id": "33e1a9e0",
   "metadata": {},
   "outputs": [],
   "source": [
    "X = iris.data   \n",
    "y = iris.target "
   ]
  },
  {
   "cell_type": "code",
   "execution_count": null,
   "id": "db50692e",
   "metadata": {},
   "outputs": [],
   "source": [
    "X[:10]"
   ]
  },
  {
   "cell_type": "markdown",
   "id": "72faf99a",
   "metadata": {},
   "source": [
    "Y su vector de etiquetas sería:  \n",
    "\n",
    "$$\n",
    "y =\n",
    "\\begin{bmatrix}\n",
    "\\text{Setosa} \\\\\n",
    "\\text{Setosa} \\\\\n",
    "\\text{Versicolor} \\\\\n",
    "\\text{Versicolor} \\\\\n",
    "\\text{Virginica} \\\\\n",
    "\\vdots \\\\\n",
    "\\end{bmatrix}\n",
    "$$"
   ]
  },
  {
   "cell_type": "code",
   "execution_count": null,
   "id": "7e7ec265",
   "metadata": {},
   "outputs": [],
   "source": [
    "y"
   ]
  },
  {
   "cell_type": "markdown",
   "id": "57682622",
   "metadata": {},
   "source": [
    "Para trabajar con una forma más cómoda en un formato tabular, convertiremos los datos a un **DataFrame** de pandas."
   ]
  },
  {
   "cell_type": "code",
   "execution_count": null,
   "id": "221bd909",
   "metadata": {},
   "outputs": [],
   "source": [
    "# Pandas DataFrame\n",
    "datos = pd.DataFrame(X, columns=iris.feature_names)\n",
    "datos['y'] = y"
   ]
  },
  {
   "cell_type": "code",
   "execution_count": null,
   "id": "989370bd",
   "metadata": {},
   "outputs": [],
   "source": [
    "datos"
   ]
  },
  {
   "cell_type": "code",
   "execution_count": null,
   "id": "9e5c45e6",
   "metadata": {},
   "outputs": [],
   "source": [
    "type(datos)"
   ]
  },
  {
   "cell_type": "markdown",
   "id": "3479d442",
   "metadata": {},
   "source": [
    "Ver documentación: [DataFrame](https://pandas.pydata.org/docs/reference/frame.html#)"
   ]
  },
  {
   "cell_type": "code",
   "execution_count": null,
   "id": "c82ea05f",
   "metadata": {},
   "outputs": [],
   "source": [
    "datos"
   ]
  },
  {
   "cell_type": "markdown",
   "id": "b0e5f733",
   "metadata": {},
   "source": [
    "---"
   ]
  },
  {
   "cell_type": "code",
   "execution_count": null,
   "id": "f8f6a3af",
   "metadata": {},
   "outputs": [],
   "source": [
    "# Segunda forma de conectar nuetros datos\n",
    "import os\n",
    "#from google.colab import drive\n",
    "#drive.mount('/content/drive')"
   ]
  },
  {
   "cell_type": "code",
   "execution_count": null,
   "id": "48720946",
   "metadata": {},
   "outputs": [],
   "source": [
    "#ruta = os.path.join('drive', 'MyDrive', 'curso-machine-learning', 'iris.csv') #content"
   ]
  },
  {
   "cell_type": "code",
   "execution_count": null,
   "id": "2e8f2921",
   "metadata": {},
   "outputs": [],
   "source": [
    "ruta = os.path.join('..', '..', 'docs', 'datos', 'iris.csv')"
   ]
  },
  {
   "cell_type": "code",
   "execution_count": null,
   "id": "d77a673e",
   "metadata": {},
   "outputs": [],
   "source": [
    "df = pd.read_csv(ruta)\n",
    "df"
   ]
  },
  {
   "cell_type": "markdown",
   "id": "257f5439",
   "metadata": {},
   "source": [
    "#### Establecemos un problema\n",
    "\n",
    "Supongamos que queremos _predecir la especie de una flor Iris_ a partir de las **características** medidas (longitud y ancho del sépalo y del pétalo)."
   ]
  },
  {
   "cell_type": "markdown",
   "id": "8caabbbc",
   "metadata": {},
   "source": [
    "![iris](../docs/_static/iris.png)"
   ]
  },
  {
   "cell_type": "markdown",
   "id": "840503af",
   "metadata": {},
   "source": [
    "En ciencia de datos, este es un problema de **clasificación supervisada**:\n",
    "- **Supervisada**: porque tenemos las etiquetas (especies) para entrenar el modelo.\n",
    "- **Clasificación**: porque las etiquetas son categorías (Setosa, Versicolor, Virginica)."
   ]
  },
  {
   "cell_type": "markdown",
   "id": "583e08d5",
   "metadata": {},
   "source": [
    "#### 1. Explorar datos"
   ]
  },
  {
   "cell_type": "markdown",
   "id": "e78aa10a",
   "metadata": {},
   "source": [
    "##### 🔹 Renombrar columnas"
   ]
  },
  {
   "cell_type": "code",
   "execution_count": null,
   "id": "340fc1ef",
   "metadata": {},
   "outputs": [],
   "source": [
    "df.rename({\n",
    "    'sepal length (cm)': 'sepal_l',\n",
    "    'sepal width (cm)': 'sepal_w',\n",
    "    'petal length (cm)': 'petal_l',\n",
    "    'petal width (cm)': 'petal_w',\n",
    "    'species': 'y'\n",
    "}, axis=1, inplace=True)\n"
   ]
  },
  {
   "cell_type": "code",
   "execution_count": null,
   "id": "1ea1be2f",
   "metadata": {},
   "outputs": [],
   "source": [
    "df"
   ]
  },
  {
   "cell_type": "code",
   "execution_count": null,
   "id": "bb804424",
   "metadata": {},
   "outputs": [],
   "source": [
    "df.head(3)"
   ]
  },
  {
   "cell_type": "markdown",
   "id": "81231333",
   "metadata": {},
   "source": [
    "##### 🔹 Eliminar columnas"
   ]
  },
  {
   "cell_type": "markdown",
   "id": "34f0f257",
   "metadata": {},
   "source": [
    "#### Ejes en pandas (`axis`)\n",
    "\n",
    "- **`axis=0`** → hacia abajo ⬇️  \n",
    "  - Opera *a lo largo de las filas*  \n",
    "  - Afecta a **columnas**  \n",
    "\n",
    "- **`axis=1`** → hacia el lado ➡️  \n",
    "  - Opera *a lo largo de las columnas*  \n",
    "  - Afecta a **filas**"
   ]
  },
  {
   "cell_type": "code",
   "execution_count": null,
   "id": "a20387b3",
   "metadata": {},
   "outputs": [],
   "source": [
    "df.drop('id', axis=1, inplace=True)"
   ]
  },
  {
   "cell_type": "markdown",
   "id": "ce9013af",
   "metadata": {},
   "source": [
    "#### 🔹 Explorar la dimensión del DataFrame"
   ]
  },
  {
   "cell_type": "code",
   "execution_count": null,
   "id": "e1f0ea2a",
   "metadata": {},
   "outputs": [],
   "source": [
    "# Explorar cual es el nombre de las columnas\n",
    "df.columns"
   ]
  },
  {
   "cell_type": "code",
   "execution_count": null,
   "id": "2e732add",
   "metadata": {},
   "outputs": [],
   "source": [
    "# Explorar la dimension del df\n",
    "df.shape"
   ]
  },
  {
   "cell_type": "markdown",
   "id": "564fd383",
   "metadata": {},
   "source": [
    "#### 🔹 Conteos"
   ]
  },
  {
   "cell_type": "code",
   "execution_count": null,
   "id": "d6d88148",
   "metadata": {},
   "outputs": [],
   "source": [
    "df.y.value_counts()"
   ]
  },
  {
   "cell_type": "markdown",
   "id": "c5ef2b42",
   "metadata": {},
   "source": [
    "##### 🔹 Valores faltantes"
   ]
  },
  {
   "cell_type": "code",
   "execution_count": null,
   "id": "fcd63a16",
   "metadata": {},
   "outputs": [],
   "source": [
    "df.isnull().sum(axis=0)"
   ]
  },
  {
   "cell_type": "code",
   "execution_count": null,
   "id": "733e06bb",
   "metadata": {},
   "outputs": [],
   "source": [
    "df.dropna(inplace=True)"
   ]
  },
  {
   "cell_type": "markdown",
   "id": "242e66e3",
   "metadata": {},
   "source": [
    "#### 🔹 Información general del conjunto de datos"
   ]
  },
  {
   "cell_type": "code",
   "execution_count": null,
   "id": "516d3288",
   "metadata": {},
   "outputs": [],
   "source": [
    "df.info()"
   ]
  },
  {
   "cell_type": "code",
   "execution_count": null,
   "id": "4a94a243",
   "metadata": {},
   "outputs": [],
   "source": [
    "df.y.unique()"
   ]
  },
  {
   "cell_type": "markdown",
   "id": "e69b9d39",
   "metadata": {},
   "source": [
    "##### 🔹 Renombrar valores de una columna"
   ]
  },
  {
   "cell_type": "code",
   "execution_count": null,
   "id": "ad218a76",
   "metadata": {},
   "outputs": [],
   "source": [
    "df['y'].replace({\n",
    "    'setosa': 0,\n",
    "    'versicolor': 1,\n",
    "    'virginica': 2\n",
    "}, inplace=True)"
   ]
  },
  {
   "cell_type": "markdown",
   "id": "eccc558b",
   "metadata": {},
   "source": [
    "##### 🔹 Separar dataframes"
   ]
  },
  {
   "cell_type": "code",
   "execution_count": null,
   "id": "a9c96105",
   "metadata": {},
   "outputs": [],
   "source": [
    "df_setosa = df[df.y == 0]\n",
    "df_versicolor = df[df.y == 1]\n",
    "df_virginica = df[df.y == 2]"
   ]
  },
  {
   "cell_type": "markdown",
   "id": "6eb1f805",
   "metadata": {},
   "source": [
    "##### 🔹Estadísticas descriptivas"
   ]
  },
  {
   "cell_type": "code",
   "execution_count": null,
   "id": "298f6271",
   "metadata": {},
   "outputs": [],
   "source": [
    "df.describe()"
   ]
  },
  {
   "cell_type": "markdown",
   "id": "2eda263d",
   "metadata": {},
   "source": [
    "##### 🔹 Tipo de datos"
   ]
  },
  {
   "cell_type": "code",
   "execution_count": null,
   "id": "a888e8e6",
   "metadata": {},
   "outputs": [],
   "source": [
    "df.dtypes"
   ]
  },
  {
   "cell_type": "markdown",
   "id": "5ca5bb8c",
   "metadata": {},
   "source": [
    "### 2. Realizar un análisis univariado"
   ]
  },
  {
   "cell_type": "markdown",
   "id": "aaa5aae8",
   "metadata": {},
   "source": [
    "Antes de correr cualquier modelo de _Machine Learning_, es imprescindible entender nuestros datos en términos estadísticos, así como visualizarlos para detectar patrones y características importantes.\n",
    "\n",
    "En ciencia de datos esto se conoce como **Análisis Exploratorio de Datos (EDA)**."
   ]
  },
  {
   "cell_type": "markdown",
   "id": "65976c78",
   "metadata": {},
   "source": [
    "En esta sección, exploraremos dos bibliotecas populares para la visualización de datos en Python: \n",
    "\n",
    "* [**Matplotlib**](https://matplotlib.org/)\n",
    "* [**Seaborn**](https://seaborn.pydata.org/) \n",
    "\n",
    "Ambas bibliotecas ofrecen potentes herramientas para crear gráficos, pero tienen diferencias en su enfoque y facilidad de uso."
   ]
  },
  {
   "cell_type": "markdown",
   "id": "e31cda61",
   "metadata": {},
   "source": [
    "![](../docs/_static/artists_figure.png)\n",
    "\n",
    "**Figura 1.** Estructura jerárquica de los objetos en Matplotlib.Imagen tomada del capítulo _\"Matplotlib\"_ por John D. Hunter, en _The Architecture of Open Source Applications, Volume II._ Disponible en [aosabook.org](https://aosabook.org/en/v2/matplotlib.html), bajo licencia [CC BY 3.0](https://creativecommons.org/licenses/by/3.0/legalcode)."
   ]
  },
  {
   "cell_type": "markdown",
   "id": "1f001a2d",
   "metadata": {},
   "source": [
    "![](../docs/_static/artists_tree.png)\n",
    "\n",
    "**Figura 2.** Ejemplo visual de un gráfico generado con Matplotlib, con sus componentes principales identificados según la jerarquía de objetos. Imagen tomada del capítulo _\"Matplotlib\"_ por John D. Hunter, en _The Architecture of Open Source Applications, Volume II._ Disponible en [aosabook.org](https://aosabook.org/en/v2/matplotlib.html), bajo licencia [CC BY 3.0](https://creativecommons.org/licenses/by/3.0/legalcode)."
   ]
  },
  {
   "cell_type": "markdown",
   "id": "324b0a75",
   "metadata": {},
   "source": [
    "#### 🔹 Histograma\n",
    "\n",
    "``.hist()`` es una función (método) dentro de`` matplotlib.pyplot``.\n",
    "\n",
    "Se invoca con paréntesis `()` porque recibe parámetros (``datos``, ``bins``, ``color``, etc.) y genera un gráfico."
   ]
  },
  {
   "cell_type": "code",
   "execution_count": null,
   "id": "69dcdadb",
   "metadata": {},
   "outputs": [],
   "source": [
    "# --- Matplotlib ---\n",
    "fig, ax = plt.subplots()\n",
    "\n",
    "ax.hist(df[\"sepal_l\"],\n",
    "        bins=15,\n",
    "        color=\"skyblue\",\n",
    "        edgecolor=\"black\")\n",
    "        \n",
    "ax.set_xlabel(\"Sepal_l\")\n",
    "ax.set_ylabel(\"Frecuencia\")\n",
    "ax.set_title(\"Histograma con Matplotlib\")\n",
    "\n",
    "plt.show()"
   ]
  },
  {
   "cell_type": "code",
   "execution_count": null,
   "id": "6562d602",
   "metadata": {},
   "outputs": [],
   "source": [
    "# --- Seaborn ---\n",
    "\n",
    "sns.set(style=\"darkgrid\")\n",
    "\n",
    "fig, ax = plt.subplots()\n",
    "\n",
    "sns.histplot(df[\"sepal_l\"], \n",
    "            bins=15, \n",
    "            kde=True, \n",
    "            ax=ax)\n",
    "ax.set_title(\"Histograma con Seaborn\")\n",
    "\n",
    "plt.show()"
   ]
  },
  {
   "cell_type": "code",
   "execution_count": null,
   "id": "f2ccb4e1",
   "metadata": {},
   "outputs": [],
   "source": [
    "# Estadísticas básicas\n",
    "media = df[\"sepal_l\"].mean()\n",
    "mediana = df[\"sepal_l\"].median()\n",
    "std = df[\"sepal_l\"].std()"
   ]
  },
  {
   "cell_type": "code",
   "execution_count": null,
   "id": "312f5ef7",
   "metadata": {},
   "outputs": [],
   "source": [
    "# Crear figura\n",
    "fig, ax = plt.subplots()\n",
    "\n",
    "# Histograma con Seaborn\n",
    "sns.histplot(df[\"sepal_l\"], bins=15, kde=True, ax=ax, color=\"steelblue\")\n",
    "\n",
    "# Añadir líneas de estadísticas\n",
    "ax.axvline(media, color=\"red\", linestyle=\"--\", label=f\"Media = {media:.2f}\")\n",
    "ax.axvline(mediana, color=\"green\", linestyle=\"-.\", label=f\"Mediana = {mediana:.2f}\")\n",
    "ax.axvline(media+std, color=\"orange\", linestyle=\":\", label=f\"Media + σ = {media+std:.2f}\")\n",
    "ax.axvline(media-std, color=\"orange\", linestyle=\":\", label=f\"Media - σ = {media-std:.2f}\")\n",
    "\n",
    "ax.set_title(\"Histograma con estadísticas\")\n",
    "ax.set_xlabel(\"Longitud del sépalo (cm)\")\n",
    "ax.set_ylabel(\"Frecuencia\")\n",
    "ax.legend()\n",
    "\n",
    "plt.show()"
   ]
  },
  {
   "cell_type": "markdown",
   "id": "0dd97bc6",
   "metadata": {},
   "source": [
    "🔎 Diferencias:\n",
    "- **Matplotlib**: más manual, hay que definir colores, títulos, ejes, etc.\n",
    "\n",
    "- **Seaborn**: menos código, estilo por defecto más elegante, y añade opcionalmente curva de densidad (`kde=True`).  \n"
   ]
  },
  {
   "cell_type": "code",
   "execution_count": null,
   "id": "74e22bcf",
   "metadata": {},
   "outputs": [],
   "source": [
    "# --- Pandas ---\n",
    "# Histograma de todas las variables numéricas\n",
    "df.hist(figsize=(8,6),\n",
    "        bins=15,\n",
    "        color=\"skyblue\",\n",
    "        edgecolor=\"black\")\n",
    "plt.show()"
   ]
  },
  {
   "cell_type": "markdown",
   "id": "e1a419b8",
   "metadata": {},
   "source": [
    "#### 🔹 Otras representaciones gráficas"
   ]
  },
  {
   "cell_type": "markdown",
   "id": "9c6df3b3",
   "metadata": {},
   "source": [
    "Para explorar una variable numérica podemos usar diferentes representaciones gráficas:\n",
    "\n",
    "1. **Boxplot (diagrama de caja)**  \n",
    "   - Resume la variable en términos de **mediana, cuartiles y posibles valores atípicos**.  \n",
    "   - Útil para detectar **asimetrías** y **outliers**.\n",
    "\n",
    "`.boxplot()`\n",
    "\n",
    "2. **Histograma**  \n",
    "   - Divide los datos en intervalos (*bins*) y muestra la **frecuencia de valores** en cada intervalo.  \n",
    "   - Permite observar la **forma general de la distribución** (simétrica, sesgada, multimodal, etc.).\n",
    "\n",
    "`.hist()`\n",
    "\n",
    "3. **KDE (Kernel Density Estimation)**  \n",
    "   - Es una versión suavizada del histograma que estima la **densidad de probabilidad**.  \n",
    "   - Ayuda a ver la **tendencia continua** de la distribución sin depender del número de bins.\n",
    "\n",
    "`kdeplot()`"
   ]
  },
  {
   "cell_type": "code",
   "execution_count": null,
   "id": "50cf1a36",
   "metadata": {},
   "outputs": [],
   "source": [
    "# Ajustamos estilo\n",
    "sns.set(style=\"whitegrid\") #cambiar por , \"whitegrid\", \"darkgrid\", \"white\", \"ticks\"\n",
    "\n",
    "# Crear figura con 3 subplots\n",
    "fig, axes = plt.subplots(1, 3, figsize=(12,4))\n",
    "\n",
    "# Boxplot\n",
    "sns.boxplot(x=df[\"sepal_l\"], ax=axes[0], color=\"steelblue\")\n",
    "axes[0].set_xlabel(\"Longitud del sépalo\")\n",
    "\n",
    "# Histograma\n",
    "sns.histplot(df[\"sepal_l\"], bins=15, ax=axes[1], color=\"steelblue\")\n",
    "axes[1].set_xlabel(\"Longitud del sépalo\")\n",
    "axes[1].set_ylabel(\"Frecuencia\")\n",
    "\n",
    "# KDE (curva de densidad)\n",
    "sns.kdeplot(df[\"sepal_l\"], ax=axes[2], shade=True, color=\"steelblue\")\n",
    "axes[2].set_xlabel(\"Longitud del sépalo\")\n",
    "axes[2].set_ylabel(\"Densidad\")\n",
    "\n",
    "fig.suptitle(\"Análisis univariado de la longitud del sépalo\", fontsize=14)\n",
    "plt.tight_layout()\n",
    "plt.show()"
   ]
  },
  {
   "cell_type": "markdown",
   "id": "4e4b1485",
   "metadata": {},
   "source": [
    "#### 🔹 Análisis estadístico y visual"
   ]
  },
  {
   "cell_type": "markdown",
   "id": "157c78ee",
   "metadata": {},
   "source": [
    "_¿qué nos dicen estos gráficos?_\n",
    "\n"
   ]
  },
  {
   "cell_type": "markdown",
   "id": "8cdc496e",
   "metadata": {},
   "source": [
    "![ Iris Setosa](../docs/_static/01-univariate-iris.png)"
   ]
  },
  {
   "cell_type": "markdown",
   "id": "30ff29a3",
   "metadata": {},
   "source": [
    "_Observaciones interesantes:_\n",
    "\n",
    "- **Sepal length:** distribución con tendencia a distribución normal, concentrada entre 5 y 7 cm, sin outliers fuertes.  \n",
    "- **Sepal width:** más variable, con algunos valores atípicos en los extremos, menos útil para separar especies.  \n",
    "- **Petal length:** distribución claramente bimodal, separa bien las especies.  \n",
    "- **Petal width:** también bimodal y muy discriminante, diferencia claramente entre *setosa* y las demás.  \n",
    "\n",
    "**Conclusión general:**  \n",
    "Las variables de los sépalos muestran mayor solapamiento y menor poder de clasificación, mientras que las de los pétalos son las más relevantes para distinguir entre las especies del dataset *Iris*."
   ]
  },
  {
   "cell_type": "markdown",
   "id": "200724fe",
   "metadata": {},
   "source": [
    "### 3. Análisis bivariado y multivariado"
   ]
  },
  {
   "cell_type": "markdown",
   "id": "3a7f7294",
   "metadata": {},
   "source": [
    "En esta sección exploraremos las relaciones entre pares de variables y cómo estas relaciones pueden ayudar a diferenciar las especies de Iris."
   ]
  },
  {
   "cell_type": "code",
   "execution_count": null,
   "id": "a09d4e96",
   "metadata": {},
   "outputs": [],
   "source": [
    "fig, ax = plt.subplots()\n",
    "\n",
    "ax.scatter(df.sepal_l, df.sepal_w)\n",
    "\n",
    "ax.set(xlabel='Sepal Length (cm)',\n",
    "       ylabel='Sepal Width (cm)',\n",
    "       title='Sepal Length vs Width');"
   ]
  },
  {
   "cell_type": "code",
   "execution_count": null,
   "id": "c3197eeb",
   "metadata": {},
   "outputs": [],
   "source": [
    "sns.pairplot(df, hue=\"y\", diag_kind=\"kde\", markers=[\"o\", \"s\", \"D\"], palette=\"Set2\")\n",
    "plt.suptitle(\"Características del Iris\", y=1.02)\n",
    "plt.show()"
   ]
  },
  {
   "cell_type": "markdown",
   "id": "91efb8af",
   "metadata": {},
   "source": [
    "#### 🔹 Correlación entre variables"
   ]
  },
  {
   "cell_type": "markdown",
   "id": "d373358b",
   "metadata": {},
   "source": [
    "### Análisis de correlación\n",
    "\n",
    "El análisis de correlación dentro del **EDA** permite identificar relaciones entre variables, detectar redundancia (multicolinealidad) y orientar la selección de características antes de entrenar un modelo."
   ]
  },
  {
   "cell_type": "code",
   "execution_count": null,
   "id": "8d058160",
   "metadata": {},
   "outputs": [],
   "source": [
    "# Calcular la matriz de correlaciones\n",
    "corr = df.drop(columns=\"y\").corr()\n",
    "corr"
   ]
  },
  {
   "cell_type": "markdown",
   "id": "44f40665",
   "metadata": {},
   "source": [
    "**Interpretación de la correlación**\n",
    "\n",
    "Hay dos aspectos importantes al analizar un mapa de calor de correlación:\n",
    "1. **La magnitud** (qué tan cerca está de 1 o -1) → indica la **fuerza** de la relación.  \n",
    "2. **El signo** (positivo o negativo) → indica la **dirección** de la relación.  \n",
    "\n",
    "- Valores **positivos**: cuando una variable aumenta, la otra también tiende a aumentar.  \n",
    "- Valores **negativos**: cuando una variable aumenta, la otra tiende a disminuir."
   ]
  },
  {
   "cell_type": "code",
   "execution_count": null,
   "id": "dae4f91f",
   "metadata": {},
   "outputs": [],
   "source": [
    "# Crear heatmap\n",
    "plt.figure(figsize=(8, 6))\n",
    "sns.heatmap(corr, annot=True, cmap=\"RdBu\", vmin=-1, vmax=1, fmt=\".2f\")\n",
    "plt.title(\"Mapa de calor - Correlación de variables Iris\")\n",
    "plt.show()"
   ]
  },
  {
   "cell_type": "markdown",
   "id": "e045ebd6",
   "metadata": {},
   "source": [
    "**Conclusiones de heatmap:**\n",
    "\n",
    "- `petal_l` y `petal_w` → correlación muy alta y positiva (~0.96), aportan información muy similar.  \n",
    "- `sepal_l` con variables de pétalos → correlación positiva fuerte (0.83–0.88).  \n",
    "- `sepal_w` → correlaciones débiles o negativas, es la variable más independiente."
   ]
  },
  {
   "cell_type": "markdown",
   "id": "9efbbdf7",
   "metadata": {},
   "source": [
    "### Conclusiones del análisis exploratorio\n",
    "\n",
    "- El dataset **Iris** está balanceado en cuanto a número de muestras por especie (50 por cada una de las 3 especies).\n",
    "\n",
    "- Contiene **4 variables numéricas** (longitud y ancho de sépalos y pétalos) y **1 variable categórica** (especie), que será utilizada como **target** del modelo.\n",
    "\n",
    "- Se observa una **fuerte correlación positiva** entre el largo y el ancho de los pétalos (`petal_l` y `petal_w`), lo que significa que aportan información muy similar.\n",
    "\n",
    "- A pesar de esta redundancia, las **características de los pétalos** son las más discriminantes para diferenciar especies: incluso por separado, permiten distinguir claramente entre *Setosa*, *Versicolor* y *Virginica*. \n",
    "\n",
    "- La especie **Setosa** `0` es la más fácil de identificar, ya que presenta dimensiones significativamente más pequeñas que las demás.\n",
    "\n",
    "- Las especies **Versicolor** `1` y **Virginica** `2` muestran cierto solapamiento, lo que puede generar confusión en su clasificación.\n",
    "\n",
    "- Las **características de los pétalos** resultan ser las más relevantes para entrenar modelos de *Machine Learning*, mientras que las de los sépalos aportan menos poder discriminante."
   ]
  },
  {
   "cell_type": "code",
   "execution_count": null,
   "id": "355c37bf",
   "metadata": {},
   "outputs": [],
   "source": [
    "#!pip install ydata_profiling"
   ]
  },
  {
   "cell_type": "code",
   "execution_count": null,
   "id": "624db57d",
   "metadata": {},
   "outputs": [],
   "source": [
    "from ydata_profiling import ProfileReport\n",
    "\n",
    "reporte = ProfileReport(df, title=\"Reporte Iris\", explorative=True)\n",
    "\n",
    "#ruta_reporte = os.path.join('drive', 'MyDrive', 'curso-machine-learning')\n",
    "#ruta_reporte = os.path.join('..', '..', 'docs', 'datos')\n",
    "\n",
    "reporte.to_file(os.path.join(ruta_reporte, \"reporte_iris.html\"))"
   ]
  }
 ],
 "metadata": {
  "kernelspec": {
   "display_name": "ml-curso",
   "language": "python",
   "name": "python3"
  },
  "language_info": {
   "codemirror_mode": {
    "name": "ipython",
    "version": 3
   },
   "file_extension": ".py",
   "mimetype": "text/x-python",
   "name": "python",
   "nbconvert_exporter": "python",
   "pygments_lexer": "ipython3",
   "version": "3.11.11"
  }
 },
 "nbformat": 4,
 "nbformat_minor": 5
}
